{
 "cells": [
  {
   "cell_type": "markdown",
   "metadata": {},
   "source": [
    "### Background of Problem Statement :"
   ]
  },
  {
   "cell_type": "markdown",
   "metadata": {},
   "source": [
    "The GroupLens Research Project is a research group in the Department of Computer Science and Engineering at the University of Minnesota. Members of the GroupLens Research Project are involved in many research projects related to the fields of information filtering, collaborative filtering, and recommender systems. The project is led by professors John Riedl and Joseph Konstan. The project began to explore automated collaborative filtering in 1992 but is most well known for its worldwide trial of an automated collaborative filtering system for Usenet news in 1996. Since then the project has expanded its scope to research overall information by filtering solutions, integrating into content-based methods, as well as, improving current collaborative filtering technology."
   ]
  },
  {
   "cell_type": "code",
   "execution_count": 1,
   "metadata": {},
   "outputs": [],
   "source": [
    "#importing pandas dataframe\n",
    "import pandas as pd\n",
    "\n",
    "import warnings\n",
    "warnings.filterwarnings('ignore')\n",
    "\n",
    "#importing seaborn\n",
    "import seaborn as sns\n",
    "\n",
    "#importing pandas profiling \n",
    "import pandas_profiling as pf\n",
    "\n",
    "#importing matplolib\n",
    "import matplotlib\n",
    "import matplotlib.pyplot as plt\n",
    "%matplotlib inline \n",
    "\n",
    "#importing reg-ex\n",
    "import re\n",
    "\n",
    "#Hold out method for splitting data\n",
    "from sklearn.model_selection import train_test_split\n",
    "\n",
    "#importing accuracy_score \n",
    "from sklearn.metrics import accuracy_score \n",
    "\n",
    "#importing LGBMClassifier \n",
    "from lightgbm import LGBMClassifier\n",
    "\n",
    "#importing xgboost\n",
    "import xgboost"
   ]
  },
  {
   "cell_type": "code",
   "execution_count": 2,
   "metadata": {},
   "outputs": [],
   "source": [
    "rating = ['UserID','MovieID','Rating','Timestamp']\n",
    "user = ['UserID','Gender','Age','Occupation','Zip-code']\n",
    "movie = ['MovieID','Title','Genres']"
   ]
  },
  {
   "cell_type": "code",
   "execution_count": 3,
   "metadata": {},
   "outputs": [
    {
     "name": "stdout",
     "output_type": "stream",
     "text": [
      "   UserID  MovieID  Rating  Timestamp\n",
      "0       1     1193       5  978300760\n",
      "1       1      661       3  978302109\n",
      "2       1      914       3  978301968\n",
      "3       1     3408       4  978300275\n",
      "4       1     2355       5  978824291\n",
      "\n",
      "(1000209, 4)\n"
     ]
    }
   ],
   "source": [
    "rating_df = pd.read_csv('ratings.dat',header=None,delimiter='::',names=rating)\n",
    "print(rating_df.head())\n",
    "print()\n",
    "print(rating_df.shape)"
   ]
  },
  {
   "cell_type": "code",
   "execution_count": 4,
   "metadata": {},
   "outputs": [
    {
     "name": "stdout",
     "output_type": "stream",
     "text": [
      "   UserID Gender  Age  Occupation Zip-code\n",
      "0       1      F    1          10    48067\n",
      "1       2      M   56          16    70072\n",
      "2       3      M   25          15    55117\n",
      "3       4      M   45           7    02460\n",
      "4       5      M   25          20    55455\n",
      "\n",
      "(6040, 5)\n"
     ]
    }
   ],
   "source": [
    "user_df = pd.read_csv('users.dat',header=None,delimiter='::',names=user)\n",
    "print(user_df.head())\n",
    "print()\n",
    "print(user_df.shape)"
   ]
  },
  {
   "cell_type": "code",
   "execution_count": 5,
   "metadata": {},
   "outputs": [
    {
     "name": "stdout",
     "output_type": "stream",
     "text": [
      "   MovieID                               Title                        Genres\n",
      "0        1                    Toy Story (1995)   Animation|Children's|Comedy\n",
      "1        2                      Jumanji (1995)  Adventure|Children's|Fantasy\n",
      "2        3             Grumpier Old Men (1995)                Comedy|Romance\n",
      "3        4            Waiting to Exhale (1995)                  Comedy|Drama\n",
      "4        5  Father of the Bride Part II (1995)                        Comedy\n",
      "\n",
      "(3883, 3)\n"
     ]
    }
   ],
   "source": [
    "movie_df = pd.read_csv('movies.dat',header=None,delimiter='::',names=movie)\n",
    "print(movie_df.head())\n",
    "print()\n",
    "print(movie_df.shape)"
   ]
  },
  {
   "cell_type": "code",
   "execution_count": 6,
   "metadata": {},
   "outputs": [
    {
     "name": "stdout",
     "output_type": "stream",
     "text": [
      "   MovieID                               Title                        Genres\n",
      "0        1                    Toy Story (1995)   Animation|Children's|Comedy\n",
      "1        2                      Jumanji (1995)  Adventure|Children's|Fantasy\n",
      "2        3             Grumpier Old Men (1995)                Comedy|Romance\n",
      "3        4            Waiting to Exhale (1995)                  Comedy|Drama\n",
      "4        5  Father of the Bride Part II (1995)                        Comedy\n",
      "\n",
      "(3883, 3)\n"
     ]
    }
   ],
   "source": [
    "movie_df = pd.read_csv('movies.dat',header=None,delimiter='::',names=movie)\n",
    "print(movie_df.head())\n",
    "print()\n",
    "print(movie_df.shape)"
   ]
  },
  {
   "cell_type": "markdown",
   "metadata": {},
   "source": [
    "### Merging the three datasets"
   ]
  },
  {
   "cell_type": "code",
   "execution_count": 7,
   "metadata": {},
   "outputs": [
    {
     "data": {
      "text/html": [
       "<div>\n",
       "<style scoped>\n",
       "    .dataframe tbody tr th:only-of-type {\n",
       "        vertical-align: middle;\n",
       "    }\n",
       "\n",
       "    .dataframe tbody tr th {\n",
       "        vertical-align: top;\n",
       "    }\n",
       "\n",
       "    .dataframe thead th {\n",
       "        text-align: right;\n",
       "    }\n",
       "</style>\n",
       "<table border=\"1\" class=\"dataframe\">\n",
       "  <thead>\n",
       "    <tr style=\"text-align: right;\">\n",
       "      <th></th>\n",
       "      <th>UserID</th>\n",
       "      <th>MovieID</th>\n",
       "      <th>Rating</th>\n",
       "      <th>Timestamp</th>\n",
       "      <th>Gender</th>\n",
       "      <th>Age</th>\n",
       "      <th>Occupation</th>\n",
       "      <th>Zip-code</th>\n",
       "      <th>Title</th>\n",
       "      <th>Genres</th>\n",
       "    </tr>\n",
       "  </thead>\n",
       "  <tbody>\n",
       "    <tr>\n",
       "      <th>0</th>\n",
       "      <td>1.0</td>\n",
       "      <td>1193</td>\n",
       "      <td>5.0</td>\n",
       "      <td>978300760.0</td>\n",
       "      <td>F</td>\n",
       "      <td>1.0</td>\n",
       "      <td>10.0</td>\n",
       "      <td>48067</td>\n",
       "      <td>One Flew Over the Cuckoo's Nest (1975)</td>\n",
       "      <td>Drama</td>\n",
       "    </tr>\n",
       "    <tr>\n",
       "      <th>1</th>\n",
       "      <td>2.0</td>\n",
       "      <td>1193</td>\n",
       "      <td>5.0</td>\n",
       "      <td>978298413.0</td>\n",
       "      <td>M</td>\n",
       "      <td>56.0</td>\n",
       "      <td>16.0</td>\n",
       "      <td>70072</td>\n",
       "      <td>One Flew Over the Cuckoo's Nest (1975)</td>\n",
       "      <td>Drama</td>\n",
       "    </tr>\n",
       "    <tr>\n",
       "      <th>2</th>\n",
       "      <td>12.0</td>\n",
       "      <td>1193</td>\n",
       "      <td>4.0</td>\n",
       "      <td>978220179.0</td>\n",
       "      <td>M</td>\n",
       "      <td>25.0</td>\n",
       "      <td>12.0</td>\n",
       "      <td>32793</td>\n",
       "      <td>One Flew Over the Cuckoo's Nest (1975)</td>\n",
       "      <td>Drama</td>\n",
       "    </tr>\n",
       "    <tr>\n",
       "      <th>3</th>\n",
       "      <td>15.0</td>\n",
       "      <td>1193</td>\n",
       "      <td>4.0</td>\n",
       "      <td>978199279.0</td>\n",
       "      <td>M</td>\n",
       "      <td>25.0</td>\n",
       "      <td>7.0</td>\n",
       "      <td>22903</td>\n",
       "      <td>One Flew Over the Cuckoo's Nest (1975)</td>\n",
       "      <td>Drama</td>\n",
       "    </tr>\n",
       "    <tr>\n",
       "      <th>4</th>\n",
       "      <td>17.0</td>\n",
       "      <td>1193</td>\n",
       "      <td>5.0</td>\n",
       "      <td>978158471.0</td>\n",
       "      <td>M</td>\n",
       "      <td>50.0</td>\n",
       "      <td>1.0</td>\n",
       "      <td>95350</td>\n",
       "      <td>One Flew Over the Cuckoo's Nest (1975)</td>\n",
       "      <td>Drama</td>\n",
       "    </tr>\n",
       "  </tbody>\n",
       "</table>\n",
       "</div>"
      ],
      "text/plain": [
       "   UserID  MovieID  Rating    Timestamp Gender   Age  Occupation Zip-code  \\\n",
       "0     1.0     1193     5.0  978300760.0      F   1.0        10.0    48067   \n",
       "1     2.0     1193     5.0  978298413.0      M  56.0        16.0    70072   \n",
       "2    12.0     1193     4.0  978220179.0      M  25.0        12.0    32793   \n",
       "3    15.0     1193     4.0  978199279.0      M  25.0         7.0    22903   \n",
       "4    17.0     1193     5.0  978158471.0      M  50.0         1.0    95350   \n",
       "\n",
       "                                    Title Genres  \n",
       "0  One Flew Over the Cuckoo's Nest (1975)  Drama  \n",
       "1  One Flew Over the Cuckoo's Nest (1975)  Drama  \n",
       "2  One Flew Over the Cuckoo's Nest (1975)  Drama  \n",
       "3  One Flew Over the Cuckoo's Nest (1975)  Drama  \n",
       "4  One Flew Over the Cuckoo's Nest (1975)  Drama  "
      ]
     },
     "execution_count": 7,
     "metadata": {},
     "output_type": "execute_result"
    }
   ],
   "source": [
    "df = rating_df.merge(user_df,how='outer',on='UserID')\n",
    "df = df.merge(movie_df,how='outer',on='MovieID')\n",
    "df.head()"
   ]
  },
  {
   "cell_type": "code",
   "execution_count": 8,
   "metadata": {},
   "outputs": [
    {
     "name": "stdout",
     "output_type": "stream",
     "text": [
      "<class 'pandas.core.frame.DataFrame'>\n",
      "Int64Index: 1000386 entries, 0 to 1000385\n",
      "Data columns (total 10 columns):\n",
      " #   Column      Non-Null Count    Dtype  \n",
      "---  ------      --------------    -----  \n",
      " 0   UserID      1000209 non-null  float64\n",
      " 1   MovieID     1000386 non-null  int64  \n",
      " 2   Rating      1000209 non-null  float64\n",
      " 3   Timestamp   1000209 non-null  float64\n",
      " 4   Gender      1000209 non-null  object \n",
      " 5   Age         1000209 non-null  float64\n",
      " 6   Occupation  1000209 non-null  float64\n",
      " 7   Zip-code    1000209 non-null  object \n",
      " 8   Title       1000386 non-null  object \n",
      " 9   Genres      1000386 non-null  object \n",
      "dtypes: float64(5), int64(1), object(4)\n",
      "memory usage: 84.0+ MB\n"
     ]
    }
   ],
   "source": [
    "df.info()"
   ]
  },
  {
   "cell_type": "code",
   "execution_count": 9,
   "metadata": {},
   "outputs": [
    {
     "data": {
      "text/plain": [
       "(1000386, 10)"
      ]
     },
     "execution_count": 9,
     "metadata": {},
     "output_type": "execute_result"
    }
   ],
   "source": [
    "df.shape"
   ]
  },
  {
   "cell_type": "code",
   "execution_count": 10,
   "metadata": {},
   "outputs": [
    {
     "data": {
      "text/plain": [
       "<AxesSubplot:>"
      ]
     },
     "execution_count": 10,
     "metadata": {},
     "output_type": "execute_result"
    },
    {
     "data": {
      "image/png": "[encoded data removed]",
      "text/plain": [
       "<Figure size 432x288 with 2 Axes>"
      ]
     },
     "metadata": {
      "needs_background": "light"
     },
     "output_type": "display_data"
    }
   ],
   "source": [
    "corr = df.corr()\n",
    "sns.heatmap(corr,annot= True,linewidths=0.5)"
   ]
  },
  {
   "cell_type": "markdown",
   "metadata": {},
   "source": [
    "### Extracting the pandas profiling report"
   ]
  },
  {
   "cell_type": "code",
   "execution_count": 11,
   "metadata": {},
   "outputs": [
    {
     "data": {
      "application/vnd.jupyter.widget-view+json": {
       "model_id": "89395f03a8614e2b85611fa4461972cb",
       "version_major": 2,
       "version_minor": 0
      },
      "text/plain": [
       "Summarize dataset:   0%|          | 0/23 [00:00<?, ?it/s]"
      ]
     },
     "metadata": {},
     "output_type": "display_data"
    },
    {
     "data": {
      "application/vnd.jupyter.widget-view+json": {
       "model_id": "d2732b0b36104f5daaa75832ab69629e",
       "version_major": 2,
       "version_minor": 0
      },
      "text/plain": [
       "Generate report structure:   0%|          | 0/1 [00:00<?, ?it/s]"
      ]
     },
     "metadata": {},
     "output_type": "display_data"
    },
    {
     "data": {
      "application/vnd.jupyter.widget-view+json": {
       "model_id": "48ce409f021743ffa61c04c9c3e4910f",
       "version_major": 2,
       "version_minor": 0
      },
      "text/plain": [
       "Render HTML:   0%|          | 0/1 [00:00<?, ?it/s]"
      ]
     },
     "metadata": {},
     "output_type": "display_data"
    },
    {
     "data": {
      "application/vnd.jupyter.widget-view+json": {
       "model_id": "ae319433fa234b26a376ba8684414b08",
       "version_major": 2,
       "version_minor": 0
      },
      "text/plain": [
       "Export report to file:   0%|          | 0/1 [00:00<?, ?it/s]"
      ]
     },
     "metadata": {},
     "output_type": "display_data"
    }
   ],
   "source": [
    "pfr = pf.ProfileReport(df)\n",
    "pfr.to_file('Movielens_pfr.html')"
   ]
  },
  {
   "cell_type": "code",
   "execution_count": 12,
   "metadata": {},
   "outputs": [
    {
     "name": "stdout",
     "output_type": "stream",
     "text": [
      "Na values in the data frame is :\n",
      "UserID column  : 177 \n",
      "\n",
      "MovieID column  : 0 \n",
      "\n",
      "Rating column  : 177 \n",
      "\n",
      "Timestamp column  : 177 \n",
      "\n",
      "Gender column  : 177 \n",
      "\n",
      "Age column  : 177 \n",
      "\n",
      "Occupation column  : 177 \n",
      "\n",
      "Zip-code column  : 177 \n",
      "\n",
      "Title column  : 0 \n",
      "\n",
      "Genres column  : 0 \n",
      "\n"
     ]
    }
   ],
   "source": [
    "print('Na values in the data frame is :')\n",
    "def is_na(x):\n",
    "    for i in x.columns:\n",
    "        print(i,'column',' :',x[i].isna().sum(),'\\n')\n",
    "is_na(df)"
   ]
  },
  {
   "cell_type": "code",
   "execution_count": 13,
   "metadata": {},
   "outputs": [],
   "source": [
    "df.dropna(inplace=True)"
   ]
  },
  {
   "cell_type": "code",
   "execution_count": 14,
   "metadata": {},
   "outputs": [
    {
     "data": {
      "text/plain": [
       "False    1000209\n",
       "Name: Rating, dtype: int64"
      ]
     },
     "execution_count": 14,
     "metadata": {},
     "output_type": "execute_result"
    }
   ],
   "source": [
    "df.Rating.isna().value_counts()"
   ]
  },
  {
   "cell_type": "code",
   "execution_count": 15,
   "metadata": {},
   "outputs": [
    {
     "name": "stdout",
     "output_type": "stream",
     "text": [
      "Column :  UserID \n",
      " [1.000e+00 2.000e+00 1.200e+01 ... 2.982e+03 3.893e+03 4.211e+03] \n",
      " Total unique values is:  6040\n",
      "----------------------------------------------------------------------\n",
      "Column :  MovieID \n",
      " [1193  661  914 ... 2845 3607 2909] \n",
      " Total unique values is:  3706\n",
      "----------------------------------------------------------------------\n",
      "Column :  Rating \n",
      " [5. 4. 3. 2. 1.] \n",
      " Total unique values is:  5\n",
      "----------------------------------------------------------------------\n",
      "Column :  Timestamp \n",
      " [9.78300760e+08 9.78298413e+08 9.78220179e+08 ... 9.58846401e+08\n",
      " 9.76029116e+08 9.57273353e+08] \n",
      " Total unique values is:  458455\n",
      "----------------------------------------------------------------------\n",
      "Column :  Gender \n",
      " ['F' 'M'] \n",
      " Total unique values is:  2\n",
      "----------------------------------------------------------------------\n",
      "Column :  Age \n",
      " [ 1. 56. 25. 50. 18. 45. 35.] \n",
      " Total unique values is:  7\n",
      "----------------------------------------------------------------------\n",
      "Column :  Occupation \n",
      " [10. 16. 12.  7.  1.  3.  4.  8. 17.  0.  2.  9. 19. 18. 15. 11. 20. 13.\n",
      "  5. 14.  6.] \n",
      " Total unique values is:  21\n",
      "----------------------------------------------------------------------\n",
      "Column :  Zip-code \n",
      " ['48067' '70072' '32793' ... '74403' '79401' '77662'] \n",
      " Total unique values is:  3439\n",
      "----------------------------------------------------------------------\n",
      "Column :  Title \n",
      " [\"One Flew Over the Cuckoo's Nest (1975)\"\n",
      " 'James and the Giant Peach (1996)' 'My Fair Lady (1964)' ...\n",
      " 'White Boys (1999)' 'One Little Indian (1973)'\n",
      " 'Five Wives, Three Secretaries and Me (1998)'] \n",
      " Total unique values is:  3706\n",
      "----------------------------------------------------------------------\n",
      "Column :  Genres \n",
      " ['Drama' \"Animation|Children's|Musical\" 'Musical|Romance'\n",
      " \"Animation|Children's|Comedy\" 'Action|Adventure|Comedy|Romance'\n",
      " 'Action|Adventure|Drama' 'Comedy|Drama'\n",
      " \"Adventure|Children's|Drama|Musical\" 'Musical' 'Comedy'\n",
      " \"Animation|Children's\" 'Comedy|Fantasy' 'Animation' 'Comedy|Sci-Fi'\n",
      " 'Drama|War' 'Romance' \"Animation|Children's|Musical|Romance\"\n",
      " \"Children's|Drama|Fantasy|Sci-Fi\" 'Drama|Romance'\n",
      " 'Animation|Comedy|Thriller'\n",
      " \"Adventure|Animation|Children's|Comedy|Musical\"\n",
      " \"Animation|Children's|Comedy|Musical\" 'Thriller' 'Action|Crime|Romance'\n",
      " 'Action|Adventure|Fantasy|Sci-Fi' \"Children's|Comedy|Musical\"\n",
      " 'Action|Drama|War' \"Children's|Drama\" 'Crime|Drama|Thriller'\n",
      " 'Action|Crime|Drama' 'Action|Adventure|Mystery' 'Crime|Drama'\n",
      " 'Action|Adventure|Sci-Fi|Thriller' 'Action|Adventure|Romance|Sci-Fi|War'\n",
      " 'Action|Thriller' 'Action|Drama' 'Comedy|Drama|Western'\n",
      " 'Action|Adventure|Crime' 'Action|Crime|Mystery|Thriller'\n",
      " 'Comedy|Drama|Romance' 'Comedy|Drama|War' 'Drama|Sci-Fi'\n",
      " 'Action|Drama|Thriller' 'Action|Comedy|Western' 'Adventure|Comedy|Drama'\n",
      " 'Drama|Thriller' 'Comedy|Romance' 'Action|Drama|Romance|Thriller'\n",
      " 'Action|Crime|Thriller' 'Action|Sci-Fi|Thriller' 'Action|Horror|Sci-Fi'\n",
      " 'Action|Sci-Fi' 'Action|Romance|War' 'Adventure|Drama|Romance|Sci-Fi'\n",
      " 'Action|Adventure|Sci-Fi' 'Drama|Romance|War' 'Action|Drama|Romance'\n",
      " 'Crime|Drama|Film-Noir|Thriller' 'Adventure|Drama|Western'\n",
      " 'Action|Adventure|Drama|Sci-Fi|War' 'Action|Adventure|Thriller'\n",
      " 'Action|Adventure|Romance|Thriller' 'Action|Adventure' 'Comedy|Horror'\n",
      " 'Action|Crime|Drama|Thriller' 'Action|Mystery|Romance|Thriller'\n",
      " 'Action|Romance|Thriller' 'Action|Comedy|Drama' 'Action'\n",
      " 'Action|Sci-Fi|War' 'Action|Comedy|Crime|Drama'\n",
      " 'Action|Adventure|Romance' 'Comedy|Romance|War' 'Comedy|Thriller'\n",
      " 'Action|Adventure|Comedy' 'Action|Comedy' 'Adventure|Thriller'\n",
      " 'Action|Adventure|Fantasy' 'Action|Adventure|Horror'\n",
      " 'Action|Adventure|Comedy|Sci-Fi' 'Action|Adventure|Comedy|Horror'\n",
      " 'Western' 'Adventure|Comedy' 'Adventure|Drama'\n",
      " 'Action|Adventure|Horror|Thriller' 'Comedy|Western'\n",
      " \"Animation|Children's|Comedy|Musical|Romance\" 'Action|Western'\n",
      " 'Action|Horror|Sci-Fi|Thriller' 'Action|Horror'\n",
      " 'Adventure|Animation|Film-Noir' 'Drama|Romance|Thriller'\n",
      " 'Crime|Drama|Romance|Thriller' 'Crime|Thriller' 'Animation|Comedy'\n",
      " 'Documentary' 'Crime|Film-Noir|Mystery|Thriller' 'Drama|Horror'\n",
      " 'Mystery|Sci-Fi|Thriller' 'Drama|Mystery' 'Horror|Romance'\n",
      " 'Horror|Sci-Fi' 'Horror' 'Sci-Fi|Thriller' 'Crime' 'Action|Crime'\n",
      " 'Crime|Horror' 'Drama|Mystery|Thriller' 'Comedy|Crime'\n",
      " 'Drama|Sci-Fi|Thriller' \"Children's|Comedy\" 'Horror|Mystery|Thriller'\n",
      " 'Film-Noir|Mystery' 'Comedy|Crime|Mystery|Thriller' 'Drama|Musical'\n",
      " 'Adventure|Sci-Fi' \"Children's|Comedy|Drama\" 'Action|Romance'\n",
      " \"Adventure|Animation|Children's|Musical\" 'Comedy|Musical'\n",
      " \"Children's|Fantasy|Musical\" \"Children's|Comedy|Western\"\n",
      " 'Drama|Romance|War|Western' \"Adventure|Children's|Comedy\"\n",
      " 'Comedy|Fantasy|Romance' 'Comedy|Musical|Romance'\n",
      " \"Adventure|Children's|Drama\" 'Action|Drama|Thriller|War'\n",
      " 'Drama|Thriller|War' 'Adventure|Animation|Sci-Fi|Thriller'\n",
      " 'Animation|Sci-Fi' 'Comedy|Crime|Drama|Mystery' 'Crime|Drama|Mystery'\n",
      " 'Action|Comedy|Sci-Fi|Thriller' 'Comedy|Crime|Fantasy'\n",
      " 'Horror|Sci-Fi|Thriller' \"Adventure|Children's|Comedy|Fantasy|Sci-Fi\"\n",
      " 'Film-Noir|Mystery|Thriller' 'Adventure' 'Comedy|War'\n",
      " 'Comedy|Romance|Thriller' \"Action|Children's|Fantasy\"\n",
      " \"Adventure|Children's|Fantasy\" 'Action|Adventure|Comedy|Crime'\n",
      " 'Adventure|Musical' \"Animation|Children's|Drama|Fantasy\"\n",
      " 'Comedy|Mystery|Thriller' 'Action|Adventure|Crime|Drama'\n",
      " \"Children's|Fantasy|Sci-Fi\" \"Adventure|Children's\" 'War'\n",
      " 'Comedy|Horror|Musical|Sci-Fi' \"Children's|Comedy|Fantasy\" 'Sci-Fi|War'\n",
      " \"Animation|Children's|Fantasy|Musical\" \"Children's|Sci-Fi\"\n",
      " \"Adventure|Children's|Fantasy|Sci-Fi\" 'Mystery|Thriller'\n",
      " 'Comedy|Horror|Musical' 'Action|Horror|Thriller' 'Adventure|Fantasy'\n",
      " 'Drama|Mystery|Sci-Fi|Thriller' 'Crime|Drama|Sci-Fi'\n",
      " \"Adventure|Children's|Musical\" 'Action|Sci-Fi|Thriller|War'\n",
      " 'Adventure|War' 'Action|Adventure|Romance|War'\n",
      " 'Action|Drama|Fantasy|Romance' 'Adventure|Comedy|Sci-Fi'\n",
      " 'Comedy|Sci-Fi|Western' 'Action|Adventure|Comedy|Horror|Sci-Fi'\n",
      " \"Adventure|Children's|Comedy|Fantasy\" 'Film-Noir|Sci-Fi' 'Drama|Fantasy'\n",
      " \"Children's|Drama|Fantasy\" \"Children's|Fantasy\" 'Fantasy|Sci-Fi'\n",
      " 'Action|Comedy|Musical' 'Adventure|Fantasy|Sci-Fi'\n",
      " 'Action|Adventure|Sci-Fi|War' \"Action|Adventure|Children's|Comedy\"\n",
      " \"Adventure|Children's|Drama|Romance\" \"Adventure|Children's|Sci-Fi\"\n",
      " \"Children's\" 'Comedy|Drama|Musical' 'Comedy|Fantasy|Romance|Sci-Fi'\n",
      " 'Comedy|Crime|Drama' 'Sci-Fi' 'Adventure|Fantasy|Romance'\n",
      " 'Adventure|Romance' 'Adventure|Western' 'Action|Drama|Mystery'\n",
      " 'Adventure|Animation|Sci-Fi' 'Adventure|Romance|Sci-Fi' 'Horror|Thriller'\n",
      " 'Action|Adventure|Mystery|Sci-Fi' 'Adventure|Drama|Thriller'\n",
      " 'Comedy|Horror|Thriller' 'Action|Comedy|Crime|Horror|Thriller'\n",
      " 'Crime|Horror|Mystery|Thriller' 'Crime|Horror|Thriller'\n",
      " 'Crime|Drama|Mystery|Thriller' 'Animation|Musical'\n",
      " 'Action|Sci-Fi|Western' 'Crime|Drama|Film-Noir'\n",
      " 'Adventure|Sci-Fi|Thriller' 'Drama|Fantasy|Romance|Thriller'\n",
      " 'Mystery|Sci-Fi' 'Action|Crime|Sci-Fi' 'Comedy|Mystery'\n",
      " 'Action|Romance|Sci-Fi' 'Crime|Film-Noir|Mystery' 'Comedy|Drama|Sci-Fi'\n",
      " 'Sci-Fi|Thriller|War' 'Film-Noir|Thriller'\n",
      " 'Action|Adventure|Animation|Horror|Sci-Fi'\n",
      " 'Action|Sci-Fi|Thriller|Western' 'Comedy|Horror|Sci-Fi'\n",
      " 'Crime|Film-Noir|Thriller' 'Comedy|Crime|Thriller'\n",
      " 'Film-Noir|Sci-Fi|Thriller' \"Adventure|Animation|Children's|Sci-Fi\"\n",
      " 'Action|Adventure|Drama|Romance' \"Children's|Musical\"\n",
      " 'Action|Comedy|Musical|Sci-Fi' 'Action|Drama|Sci-Fi|Thriller'\n",
      " 'Action|Comedy|Fantasy' 'Action|War' 'Action|Comedy|Sci-Fi|War'\n",
      " 'Comedy|Crime|Horror' 'Action|Comedy|War'\n",
      " \"Action|Adventure|Children's|Sci-Fi\" \"Action|Children's\"\n",
      " 'Comedy|Documentary' 'Action|Adventure|Animation'\n",
      " 'Action|Mystery|Thriller'\n",
      " \"Action|Animation|Children's|Sci-Fi|Thriller|War\" 'Crime|Drama|Romance'\n",
      " 'Crime|Film-Noir' 'Mystery|Romance|Thriller'\n",
      " 'Comedy|Mystery|Romance|Thriller' 'Action|Adventure|Sci-Fi|Thriller|War'\n",
      " 'Adventure|Crime|Sci-Fi|Thriller' 'Action|Adventure|Western'\n",
      " \"Animation|Children's|Fantasy|War\" 'Action|Adventure|Comedy|War'\n",
      " \"Children's|Comedy|Sci-Fi\"\n",
      " \"Adventure|Animation|Children's|Comedy|Fantasy\" 'Drama|Musical|War'\n",
      " 'Drama|Mystery|Romance' 'Adventure|Drama|Romance' 'Film-Noir'\n",
      " 'Film-Noir|Romance|Thriller' 'Drama|Film-Noir' 'Romance|Thriller'\n",
      " 'Action|Adventure|War' 'Mystery' 'Action|Adventure|Drama|Thriller'\n",
      " 'Musical|Romance|War' 'Drama|Western'\n",
      " 'Action|Drama|Mystery|Romance|Thriller' 'Adventure|Comedy|Musical'\n",
      " 'Documentary|Musical' 'Action|Thriller|War' 'Adventure|Comedy|Romance'\n",
      " \"Adventure|Children's|Comedy|Fantasy|Romance\" 'Romance|War'\n",
      " 'Comedy|Romance|Sci-Fi' 'Action|Mystery|Sci-Fi|Thriller'\n",
      " \"Children's|Horror\" 'Adventure|Musical|Romance'\n",
      " \"Adventure|Children's|Comedy|Musical\" \"Children's|Comedy|Mystery\"\n",
      " 'Action|Comedy|Romance|Thriller' 'Action|Drama|Western'\n",
      " \"Animation|Children's|Comedy|Romance\" 'Comedy|Mystery|Romance'\n",
      " 'Action|Crime|Mystery' 'Comedy|Drama|Thriller' 'Musical|War'\n",
      " 'Documentary|Drama' 'Action|Adventure|Crime|Thriller'\n",
      " \"Action|Adventure|Children's\" \"Adventure|Children's|Romance\"\n",
      " \"Adventure|Animation|Children's\"\n",
      " \"Action|Adventure|Animation|Children's|Fantasy\"\n",
      " \"Adventure|Animation|Children's|Fantasy\" 'Drama|Film-Noir|Thriller'\n",
      " 'Crime|Mystery' 'Documentary|War' 'Action|Comedy|Crime'\n",
      " 'Drama|Romance|Sci-Fi' 'Horror|Mystery' 'Drama|Horror|Thriller'\n",
      " \"Action|Adventure|Children's|Fantasy\" 'Animation|Mystery'\n",
      " 'Drama|Romance|Western' 'Romance|Western' 'Comedy|Film-Noir|Thriller'\n",
      " 'Fantasy' 'Film-Noir|Horror'] \n",
      " Total unique values is:  301\n",
      "----------------------------------------------------------------------\n"
     ]
    }
   ],
   "source": [
    "def df_unique(X):\n",
    "    for i in X.columns:\n",
    "        print('Column : ',i,'\\n',X[i].unique(), '\\n Total unique values is: ', X[i].nunique())\n",
    "        print('----------------------------------------------------------------------')\n",
    "df_unique(df)"
   ]
  },
  {
   "cell_type": "markdown",
   "metadata": {},
   "source": [
    "### Exploring the datasets using visual representations"
   ]
  },
  {
   "cell_type": "markdown",
   "metadata": {},
   "source": [
    "### Visualizing the User Age Distribution"
   ]
  },
  {
   "cell_type": "code",
   "execution_count": 16,
   "metadata": {},
   "outputs": [
    {
     "data": {
      "text/plain": [
       "<AxesSubplot:>"
      ]
     },
     "execution_count": 16,
     "metadata": {},
     "output_type": "execute_result"
    },
    {
     "data": {
      "image/png": "[encoded data removed]",
      "text/plain": [
       "<Figure size 432x288 with 1 Axes>"
      ]
     },
     "metadata": {
      "needs_background": "light"
     },
     "output_type": "display_data"
    }
   ],
   "source": [
    "df.Age.hist(grid=False)"
   ]
  },
  {
   "cell_type": "markdown",
   "metadata": {},
   "source": [
    "### Visualizing User rating of the movie “Toy Story”"
   ]
  },
  {
   "cell_type": "code",
   "execution_count": 17,
   "metadata": {},
   "outputs": [
    {
     "data": {
      "text/plain": [
       "\"One Flew Over the Cuckoo's Nest (1975)\""
      ]
     },
     "execution_count": 17,
     "metadata": {},
     "output_type": "execute_result"
    }
   ],
   "source": [
    "def fn(x):\n",
    "    return re.search(\"Toy Story\".lower(), x.lower())!=None\n",
    "title = df.iloc[0].Title\n",
    "title"
   ]
  },
  {
   "cell_type": "code",
   "execution_count": 18,
   "metadata": {},
   "outputs": [
    {
     "data": {
      "text/plain": [
       "0    False\n",
       "1    False\n",
       "2    False\n",
       "3    False\n",
       "4    False\n",
       "Name: Title, dtype: bool"
      ]
     },
     "execution_count": 18,
     "metadata": {},
     "output_type": "execute_result"
    }
   ],
   "source": [
    "re_tit = df[\"Title\"].apply(fn)\n",
    "re_tit.head()"
   ]
  },
  {
   "cell_type": "code",
   "execution_count": 19,
   "metadata": {},
   "outputs": [
    {
     "data": {
      "text/html": [
       "<div>\n",
       "<style scoped>\n",
       "    .dataframe tbody tr th:only-of-type {\n",
       "        vertical-align: middle;\n",
       "    }\n",
       "\n",
       "    .dataframe tbody tr th {\n",
       "        vertical-align: top;\n",
       "    }\n",
       "\n",
       "    .dataframe thead th {\n",
       "        text-align: right;\n",
       "    }\n",
       "</style>\n",
       "<table border=\"1\" class=\"dataframe\">\n",
       "  <thead>\n",
       "    <tr style=\"text-align: right;\">\n",
       "      <th></th>\n",
       "      <th>UserID</th>\n",
       "      <th>MovieID</th>\n",
       "      <th>Rating</th>\n",
       "      <th>Timestamp</th>\n",
       "      <th>Gender</th>\n",
       "      <th>Age</th>\n",
       "      <th>Occupation</th>\n",
       "      <th>Zip-code</th>\n",
       "      <th>Title</th>\n",
       "      <th>Genres</th>\n",
       "    </tr>\n",
       "  </thead>\n",
       "  <tbody>\n",
       "    <tr>\n",
       "      <th>41626</th>\n",
       "      <td>1.0</td>\n",
       "      <td>1</td>\n",
       "      <td>5.0</td>\n",
       "      <td>978824268.0</td>\n",
       "      <td>F</td>\n",
       "      <td>1.0</td>\n",
       "      <td>10.0</td>\n",
       "      <td>48067</td>\n",
       "      <td>Toy Story (1995)</td>\n",
       "      <td>Animation|Children's|Comedy</td>\n",
       "    </tr>\n",
       "    <tr>\n",
       "      <th>41627</th>\n",
       "      <td>6.0</td>\n",
       "      <td>1</td>\n",
       "      <td>4.0</td>\n",
       "      <td>978237008.0</td>\n",
       "      <td>F</td>\n",
       "      <td>50.0</td>\n",
       "      <td>9.0</td>\n",
       "      <td>55117</td>\n",
       "      <td>Toy Story (1995)</td>\n",
       "      <td>Animation|Children's|Comedy</td>\n",
       "    </tr>\n",
       "    <tr>\n",
       "      <th>41628</th>\n",
       "      <td>8.0</td>\n",
       "      <td>1</td>\n",
       "      <td>4.0</td>\n",
       "      <td>978233496.0</td>\n",
       "      <td>M</td>\n",
       "      <td>25.0</td>\n",
       "      <td>12.0</td>\n",
       "      <td>11413</td>\n",
       "      <td>Toy Story (1995)</td>\n",
       "      <td>Animation|Children's|Comedy</td>\n",
       "    </tr>\n",
       "    <tr>\n",
       "      <th>41629</th>\n",
       "      <td>9.0</td>\n",
       "      <td>1</td>\n",
       "      <td>5.0</td>\n",
       "      <td>978225952.0</td>\n",
       "      <td>M</td>\n",
       "      <td>25.0</td>\n",
       "      <td>17.0</td>\n",
       "      <td>61614</td>\n",
       "      <td>Toy Story (1995)</td>\n",
       "      <td>Animation|Children's|Comedy</td>\n",
       "    </tr>\n",
       "    <tr>\n",
       "      <th>41630</th>\n",
       "      <td>10.0</td>\n",
       "      <td>1</td>\n",
       "      <td>5.0</td>\n",
       "      <td>978226474.0</td>\n",
       "      <td>F</td>\n",
       "      <td>35.0</td>\n",
       "      <td>1.0</td>\n",
       "      <td>95370</td>\n",
       "      <td>Toy Story (1995)</td>\n",
       "      <td>Animation|Children's|Comedy</td>\n",
       "    </tr>\n",
       "    <tr>\n",
       "      <th>...</th>\n",
       "      <td>...</td>\n",
       "      <td>...</td>\n",
       "      <td>...</td>\n",
       "      <td>...</td>\n",
       "      <td>...</td>\n",
       "      <td>...</td>\n",
       "      <td>...</td>\n",
       "      <td>...</td>\n",
       "      <td>...</td>\n",
       "      <td>...</td>\n",
       "    </tr>\n",
       "    <tr>\n",
       "      <th>56826</th>\n",
       "      <td>6022.0</td>\n",
       "      <td>3114</td>\n",
       "      <td>5.0</td>\n",
       "      <td>956755741.0</td>\n",
       "      <td>M</td>\n",
       "      <td>25.0</td>\n",
       "      <td>17.0</td>\n",
       "      <td>57006</td>\n",
       "      <td>Toy Story 2 (1999)</td>\n",
       "      <td>Animation|Children's|Comedy</td>\n",
       "    </tr>\n",
       "    <tr>\n",
       "      <th>56827</th>\n",
       "      <td>6024.0</td>\n",
       "      <td>3114</td>\n",
       "      <td>4.0</td>\n",
       "      <td>956749447.0</td>\n",
       "      <td>M</td>\n",
       "      <td>25.0</td>\n",
       "      <td>12.0</td>\n",
       "      <td>53705</td>\n",
       "      <td>Toy Story 2 (1999)</td>\n",
       "      <td>Animation|Children's|Comedy</td>\n",
       "    </tr>\n",
       "    <tr>\n",
       "      <th>56828</th>\n",
       "      <td>6027.0</td>\n",
       "      <td>3114</td>\n",
       "      <td>4.0</td>\n",
       "      <td>956726766.0</td>\n",
       "      <td>M</td>\n",
       "      <td>18.0</td>\n",
       "      <td>4.0</td>\n",
       "      <td>20742</td>\n",
       "      <td>Toy Story 2 (1999)</td>\n",
       "      <td>Animation|Children's|Comedy</td>\n",
       "    </tr>\n",
       "    <tr>\n",
       "      <th>56829</th>\n",
       "      <td>6036.0</td>\n",
       "      <td>3114</td>\n",
       "      <td>4.0</td>\n",
       "      <td>956710231.0</td>\n",
       "      <td>F</td>\n",
       "      <td>25.0</td>\n",
       "      <td>15.0</td>\n",
       "      <td>32603</td>\n",
       "      <td>Toy Story 2 (1999)</td>\n",
       "      <td>Animation|Children's|Comedy</td>\n",
       "    </tr>\n",
       "    <tr>\n",
       "      <th>56830</th>\n",
       "      <td>6037.0</td>\n",
       "      <td>3114</td>\n",
       "      <td>4.0</td>\n",
       "      <td>956719174.0</td>\n",
       "      <td>F</td>\n",
       "      <td>45.0</td>\n",
       "      <td>1.0</td>\n",
       "      <td>76006</td>\n",
       "      <td>Toy Story 2 (1999)</td>\n",
       "      <td>Animation|Children's|Comedy</td>\n",
       "    </tr>\n",
       "  </tbody>\n",
       "</table>\n",
       "<p>3662 rows × 10 columns</p>\n",
       "</div>"
      ],
      "text/plain": [
       "       UserID  MovieID  Rating    Timestamp Gender   Age  Occupation Zip-code  \\\n",
       "41626     1.0        1     5.0  978824268.0      F   1.0        10.0    48067   \n",
       "41627     6.0        1     4.0  978237008.0      F  50.0         9.0    55117   \n",
       "41628     8.0        1     4.0  978233496.0      M  25.0        12.0    11413   \n",
       "41629     9.0        1     5.0  978225952.0      M  25.0        17.0    61614   \n",
       "41630    10.0        1     5.0  978226474.0      F  35.0         1.0    95370   \n",
       "...       ...      ...     ...          ...    ...   ...         ...      ...   \n",
       "56826  6022.0     3114     5.0  956755741.0      M  25.0        17.0    57006   \n",
       "56827  6024.0     3114     4.0  956749447.0      M  25.0        12.0    53705   \n",
       "56828  6027.0     3114     4.0  956726766.0      M  18.0         4.0    20742   \n",
       "56829  6036.0     3114     4.0  956710231.0      F  25.0        15.0    32603   \n",
       "56830  6037.0     3114     4.0  956719174.0      F  45.0         1.0    76006   \n",
       "\n",
       "                    Title                       Genres  \n",
       "41626    Toy Story (1995)  Animation|Children's|Comedy  \n",
       "41627    Toy Story (1995)  Animation|Children's|Comedy  \n",
       "41628    Toy Story (1995)  Animation|Children's|Comedy  \n",
       "41629    Toy Story (1995)  Animation|Children's|Comedy  \n",
       "41630    Toy Story (1995)  Animation|Children's|Comedy  \n",
       "...                   ...                          ...  \n",
       "56826  Toy Story 2 (1999)  Animation|Children's|Comedy  \n",
       "56827  Toy Story 2 (1999)  Animation|Children's|Comedy  \n",
       "56828  Toy Story 2 (1999)  Animation|Children's|Comedy  \n",
       "56829  Toy Story 2 (1999)  Animation|Children's|Comedy  \n",
       "56830  Toy Story 2 (1999)  Animation|Children's|Comedy  \n",
       "\n",
       "[3662 rows x 10 columns]"
      ]
     },
     "execution_count": 19,
     "metadata": {},
     "output_type": "execute_result"
    }
   ],
   "source": [
    "toystory = df[df[\"Title\"].apply(fn)]\n",
    "toystory"
   ]
  },
  {
   "cell_type": "code",
   "execution_count": 20,
   "metadata": {},
   "outputs": [
    {
     "data": {
      "text/plain": [
       "<AxesSubplot:>"
      ]
     },
     "execution_count": 20,
     "metadata": {},
     "output_type": "execute_result"
    },
    {
     "data": {
      "image/png": "[encoded data removed]",
      "text/plain": [
       "<Figure size 432x288 with 1 Axes>"
      ]
     },
     "metadata": {
      "needs_background": "light"
     },
     "output_type": "display_data"
    }
   ],
   "source": [
    "toystory.Rating.hist(grid=False)"
   ]
  },
  {
   "cell_type": "markdown",
   "metadata": {},
   "source": [
    "### Top 25 movies by viewership rating"
   ]
  },
  {
   "cell_type": "code",
   "execution_count": 21,
   "metadata": {},
   "outputs": [
    {
     "data": {
      "text/plain": [
       "MovieID  Title                                                \n",
       "2858     American Beauty (1999)                                   3428\n",
       "260      Star Wars: Episode IV - A New Hope (1977)                2991\n",
       "1196     Star Wars: Episode V - The Empire Strikes Back (1980)    2990\n",
       "1210     Star Wars: Episode VI - Return of the Jedi (1983)        2883\n",
       "480      Jurassic Park (1993)                                     2672\n",
       "                                                                  ... \n",
       "2218     Juno and Paycock (1930)                                     1\n",
       "2217     Elstree Calling (1930)                                      1\n",
       "3382     Song of Freedom (1936)                                      1\n",
       "2214     Number Seventeen (1932)                                     1\n",
       "402      Open Season (1996)                                          1\n",
       "Name: Timestamp, Length: 3706, dtype: int64"
      ]
     },
     "execution_count": 21,
     "metadata": {},
     "output_type": "execute_result"
    }
   ],
   "source": [
    "top_25 = df.groupby([\"MovieID\", \"Title\"]).Timestamp.count().sort_values(ascending=False)\n",
    "top_25"
   ]
  },
  {
   "cell_type": "code",
   "execution_count": 22,
   "metadata": {},
   "outputs": [
    {
     "name": "stdout",
     "output_type": "stream",
     "text": [
      "Top 25 movies by viewership rating\n",
      "MovieID  Title                                                \n",
      "2858     American Beauty (1999)                                   3428\n",
      "260      Star Wars: Episode IV - A New Hope (1977)                2991\n",
      "1196     Star Wars: Episode V - The Empire Strikes Back (1980)    2990\n",
      "1210     Star Wars: Episode VI - Return of the Jedi (1983)        2883\n",
      "480      Jurassic Park (1993)                                     2672\n",
      "2028     Saving Private Ryan (1998)                               2653\n",
      "589      Terminator 2: Judgment Day (1991)                        2649\n",
      "2571     Matrix, The (1999)                                       2590\n",
      "1270     Back to the Future (1985)                                2583\n",
      "593      Silence of the Lambs, The (1991)                         2578\n",
      "1580     Men in Black (1997)                                      2538\n",
      "1198     Raiders of the Lost Ark (1981)                           2514\n",
      "608      Fargo (1996)                                             2513\n",
      "2762     Sixth Sense, The (1999)                                  2459\n",
      "110      Braveheart (1995)                                        2443\n",
      "2396     Shakespeare in Love (1998)                               2369\n",
      "1197     Princess Bride, The (1987)                               2318\n",
      "527      Schindler's List (1993)                                  2304\n",
      "1617     L.A. Confidential (1997)                                 2288\n",
      "1265     Groundhog Day (1993)                                     2278\n",
      "1097     E.T. the Extra-Terrestrial (1982)                        2269\n",
      "2628     Star Wars: Episode I - The Phantom Menace (1999)         2250\n",
      "2997     Being John Malkovich (1999)                              2241\n",
      "318      Shawshank Redemption, The (1994)                         2227\n",
      "858      Godfather, The (1972)                                    2223\n",
      "Name: Timestamp, dtype: int64\n"
     ]
    }
   ],
   "source": [
    "print('Top 25 movies by viewership rating')\n",
    "print(top_25[:25])"
   ]
  },
  {
   "cell_type": "markdown",
   "metadata": {},
   "source": [
    "### The ratings for all the movies reviewed by for a particular user of user id = 2696"
   ]
  },
  {
   "cell_type": "code",
   "execution_count": 23,
   "metadata": {},
   "outputs": [
    {
     "data": {
      "text/plain": [
       "(250014    5.0\n",
       " 603189    4.0\n",
       " 371178    4.0\n",
       " 689379    4.0\n",
       " 618708    4.0\n",
       " Name: Rating, dtype: float64,\n",
       " (20,))"
      ]
     },
     "execution_count": 23,
     "metadata": {},
     "output_type": "execute_result"
    }
   ],
   "source": [
    "usr_2696 = df.loc[df.UserID==2696, \"Rating\"].sort_values(ascending=False)\n",
    "usr_2696.head(),usr_2696.shape"
   ]
  },
  {
   "cell_type": "code",
   "execution_count": 24,
   "metadata": {},
   "outputs": [
    {
     "data": {
      "text/plain": [
       "<AxesSubplot:>"
      ]
     },
     "execution_count": 24,
     "metadata": {},
     "output_type": "execute_result"
    },
    {
     "data": {
      "image/png": "[encoded data removed]",
      "text/plain": [
       "<Figure size 432x288 with 1 Axes>"
      ]
     },
     "metadata": {
      "needs_background": "light"
     },
     "output_type": "display_data"
    }
   ],
   "source": [
    "usr_2696.hist()"
   ]
  },
  {
   "cell_type": "markdown",
   "metadata": {},
   "source": [
    "### Finding all the unique genres"
   ]
  },
  {
   "cell_type": "code",
   "execution_count": 25,
   "metadata": {},
   "outputs": [
    {
     "data": {
      "text/plain": [
       "array(['Drama', \"Animation|Children's|Musical\", 'Musical|Romance',\n",
       "       \"Animation|Children's|Comedy\", 'Action|Adventure|Comedy|Romance',\n",
       "       'Action|Adventure|Drama', 'Comedy|Drama',\n",
       "       \"Adventure|Children's|Drama|Musical\", 'Musical', 'Comedy',\n",
       "       \"Animation|Children's\", 'Comedy|Fantasy', 'Animation',\n",
       "       'Comedy|Sci-Fi', 'Drama|War', 'Romance',\n",
       "       \"Animation|Children's|Musical|Romance\",\n",
       "       \"Children's|Drama|Fantasy|Sci-Fi\", 'Drama|Romance',\n",
       "       'Animation|Comedy|Thriller',\n",
       "       \"Adventure|Animation|Children's|Comedy|Musical\",\n",
       "       \"Animation|Children's|Comedy|Musical\", 'Thriller',\n",
       "       'Action|Crime|Romance', 'Action|Adventure|Fantasy|Sci-Fi',\n",
       "       \"Children's|Comedy|Musical\", 'Action|Drama|War',\n",
       "       \"Children's|Drama\", 'Crime|Drama|Thriller', 'Action|Crime|Drama',\n",
       "       'Action|Adventure|Mystery', 'Crime|Drama',\n",
       "       'Action|Adventure|Sci-Fi|Thriller',\n",
       "       'Action|Adventure|Romance|Sci-Fi|War', 'Action|Thriller',\n",
       "       'Action|Drama', 'Comedy|Drama|Western', 'Action|Adventure|Crime',\n",
       "       'Action|Crime|Mystery|Thriller', 'Comedy|Drama|Romance',\n",
       "       'Comedy|Drama|War', 'Drama|Sci-Fi', 'Action|Drama|Thriller',\n",
       "       'Action|Comedy|Western', 'Adventure|Comedy|Drama',\n",
       "       'Drama|Thriller', 'Comedy|Romance',\n",
       "       'Action|Drama|Romance|Thriller', 'Action|Crime|Thriller',\n",
       "       'Action|Sci-Fi|Thriller', 'Action|Horror|Sci-Fi', 'Action|Sci-Fi',\n",
       "       'Action|Romance|War', 'Adventure|Drama|Romance|Sci-Fi',\n",
       "       'Action|Adventure|Sci-Fi', 'Drama|Romance|War',\n",
       "       'Action|Drama|Romance', 'Crime|Drama|Film-Noir|Thriller',\n",
       "       'Adventure|Drama|Western', 'Action|Adventure|Drama|Sci-Fi|War',\n",
       "       'Action|Adventure|Thriller', 'Action|Adventure|Romance|Thriller',\n",
       "       'Action|Adventure', 'Comedy|Horror', 'Action|Crime|Drama|Thriller',\n",
       "       'Action|Mystery|Romance|Thriller', 'Action|Romance|Thriller',\n",
       "       'Action|Comedy|Drama', 'Action', 'Action|Sci-Fi|War',\n",
       "       'Action|Comedy|Crime|Drama', 'Action|Adventure|Romance',\n",
       "       'Comedy|Romance|War', 'Comedy|Thriller', 'Action|Adventure|Comedy',\n",
       "       'Action|Comedy', 'Adventure|Thriller', 'Action|Adventure|Fantasy',\n",
       "       'Action|Adventure|Horror', 'Action|Adventure|Comedy|Sci-Fi',\n",
       "       'Action|Adventure|Comedy|Horror', 'Western', 'Adventure|Comedy',\n",
       "       'Adventure|Drama', 'Action|Adventure|Horror|Thriller',\n",
       "       'Comedy|Western', \"Animation|Children's|Comedy|Musical|Romance\",\n",
       "       'Action|Western', 'Action|Horror|Sci-Fi|Thriller', 'Action|Horror',\n",
       "       'Adventure|Animation|Film-Noir', 'Drama|Romance|Thriller',\n",
       "       'Crime|Drama|Romance|Thriller', 'Crime|Thriller',\n",
       "       'Animation|Comedy', 'Documentary',\n",
       "       'Crime|Film-Noir|Mystery|Thriller', 'Drama|Horror',\n",
       "       'Mystery|Sci-Fi|Thriller', 'Drama|Mystery', 'Horror|Romance',\n",
       "       'Horror|Sci-Fi', 'Horror', 'Sci-Fi|Thriller', 'Crime',\n",
       "       'Action|Crime', 'Crime|Horror', 'Drama|Mystery|Thriller',\n",
       "       'Comedy|Crime', 'Drama|Sci-Fi|Thriller', \"Children's|Comedy\",\n",
       "       'Horror|Mystery|Thriller', 'Film-Noir|Mystery',\n",
       "       'Comedy|Crime|Mystery|Thriller', 'Drama|Musical',\n",
       "       'Adventure|Sci-Fi', \"Children's|Comedy|Drama\", 'Action|Romance',\n",
       "       \"Adventure|Animation|Children's|Musical\", 'Comedy|Musical',\n",
       "       \"Children's|Fantasy|Musical\", \"Children's|Comedy|Western\",\n",
       "       'Drama|Romance|War|Western', \"Adventure|Children's|Comedy\",\n",
       "       'Comedy|Fantasy|Romance', 'Comedy|Musical|Romance',\n",
       "       \"Adventure|Children's|Drama\", 'Action|Drama|Thriller|War',\n",
       "       'Drama|Thriller|War', 'Adventure|Animation|Sci-Fi|Thriller',\n",
       "       'Animation|Sci-Fi', 'Comedy|Crime|Drama|Mystery',\n",
       "       'Crime|Drama|Mystery', 'Action|Comedy|Sci-Fi|Thriller',\n",
       "       'Comedy|Crime|Fantasy', 'Horror|Sci-Fi|Thriller',\n",
       "       \"Adventure|Children's|Comedy|Fantasy|Sci-Fi\",\n",
       "       'Film-Noir|Mystery|Thriller', 'Adventure', 'Comedy|War',\n",
       "       'Comedy|Romance|Thriller', \"Action|Children's|Fantasy\",\n",
       "       \"Adventure|Children's|Fantasy\", 'Action|Adventure|Comedy|Crime',\n",
       "       'Adventure|Musical', \"Animation|Children's|Drama|Fantasy\",\n",
       "       'Comedy|Mystery|Thriller', 'Action|Adventure|Crime|Drama',\n",
       "       \"Children's|Fantasy|Sci-Fi\", \"Adventure|Children's\", 'War',\n",
       "       'Comedy|Horror|Musical|Sci-Fi', \"Children's|Comedy|Fantasy\",\n",
       "       'Sci-Fi|War', \"Animation|Children's|Fantasy|Musical\",\n",
       "       \"Children's|Sci-Fi\", \"Adventure|Children's|Fantasy|Sci-Fi\",\n",
       "       'Mystery|Thriller', 'Comedy|Horror|Musical',\n",
       "       'Action|Horror|Thriller', 'Adventure|Fantasy',\n",
       "       'Drama|Mystery|Sci-Fi|Thriller', 'Crime|Drama|Sci-Fi',\n",
       "       \"Adventure|Children's|Musical\", 'Action|Sci-Fi|Thriller|War',\n",
       "       'Adventure|War', 'Action|Adventure|Romance|War',\n",
       "       'Action|Drama|Fantasy|Romance', 'Adventure|Comedy|Sci-Fi',\n",
       "       'Comedy|Sci-Fi|Western', 'Action|Adventure|Comedy|Horror|Sci-Fi',\n",
       "       \"Adventure|Children's|Comedy|Fantasy\", 'Film-Noir|Sci-Fi',\n",
       "       'Drama|Fantasy', \"Children's|Drama|Fantasy\", \"Children's|Fantasy\",\n",
       "       'Fantasy|Sci-Fi', 'Action|Comedy|Musical',\n",
       "       'Adventure|Fantasy|Sci-Fi', 'Action|Adventure|Sci-Fi|War',\n",
       "       \"Action|Adventure|Children's|Comedy\",\n",
       "       \"Adventure|Children's|Drama|Romance\",\n",
       "       \"Adventure|Children's|Sci-Fi\", \"Children's\",\n",
       "       'Comedy|Drama|Musical', 'Comedy|Fantasy|Romance|Sci-Fi',\n",
       "       'Comedy|Crime|Drama', 'Sci-Fi', 'Adventure|Fantasy|Romance',\n",
       "       'Adventure|Romance', 'Adventure|Western', 'Action|Drama|Mystery',\n",
       "       'Adventure|Animation|Sci-Fi', 'Adventure|Romance|Sci-Fi',\n",
       "       'Horror|Thriller', 'Action|Adventure|Mystery|Sci-Fi',\n",
       "       'Adventure|Drama|Thriller', 'Comedy|Horror|Thriller',\n",
       "       'Action|Comedy|Crime|Horror|Thriller',\n",
       "       'Crime|Horror|Mystery|Thriller', 'Crime|Horror|Thriller',\n",
       "       'Crime|Drama|Mystery|Thriller', 'Animation|Musical',\n",
       "       'Action|Sci-Fi|Western', 'Crime|Drama|Film-Noir',\n",
       "       'Adventure|Sci-Fi|Thriller', 'Drama|Fantasy|Romance|Thriller',\n",
       "       'Mystery|Sci-Fi', 'Action|Crime|Sci-Fi', 'Comedy|Mystery',\n",
       "       'Action|Romance|Sci-Fi', 'Crime|Film-Noir|Mystery',\n",
       "       'Comedy|Drama|Sci-Fi', 'Sci-Fi|Thriller|War', 'Film-Noir|Thriller',\n",
       "       'Action|Adventure|Animation|Horror|Sci-Fi',\n",
       "       'Action|Sci-Fi|Thriller|Western', 'Comedy|Horror|Sci-Fi',\n",
       "       'Crime|Film-Noir|Thriller', 'Comedy|Crime|Thriller',\n",
       "       'Film-Noir|Sci-Fi|Thriller',\n",
       "       \"Adventure|Animation|Children's|Sci-Fi\",\n",
       "       'Action|Adventure|Drama|Romance', \"Children's|Musical\",\n",
       "       'Action|Comedy|Musical|Sci-Fi', 'Action|Drama|Sci-Fi|Thriller',\n",
       "       'Action|Comedy|Fantasy', 'Action|War', 'Action|Comedy|Sci-Fi|War',\n",
       "       'Comedy|Crime|Horror', 'Action|Comedy|War',\n",
       "       \"Action|Adventure|Children's|Sci-Fi\", \"Action|Children's\",\n",
       "       'Comedy|Documentary', 'Action|Adventure|Animation',\n",
       "       'Action|Mystery|Thriller',\n",
       "       \"Action|Animation|Children's|Sci-Fi|Thriller|War\",\n",
       "       'Crime|Drama|Romance', 'Crime|Film-Noir',\n",
       "       'Mystery|Romance|Thriller', 'Comedy|Mystery|Romance|Thriller',\n",
       "       'Action|Adventure|Sci-Fi|Thriller|War',\n",
       "       'Adventure|Crime|Sci-Fi|Thriller', 'Action|Adventure|Western',\n",
       "       \"Animation|Children's|Fantasy|War\", 'Action|Adventure|Comedy|War',\n",
       "       \"Children's|Comedy|Sci-Fi\",\n",
       "       \"Adventure|Animation|Children's|Comedy|Fantasy\",\n",
       "       'Drama|Musical|War', 'Drama|Mystery|Romance',\n",
       "       'Adventure|Drama|Romance', 'Film-Noir',\n",
       "       'Film-Noir|Romance|Thriller', 'Drama|Film-Noir',\n",
       "       'Romance|Thriller', 'Action|Adventure|War', 'Mystery',\n",
       "       'Action|Adventure|Drama|Thriller', 'Musical|Romance|War',\n",
       "       'Drama|Western', 'Action|Drama|Mystery|Romance|Thriller',\n",
       "       'Adventure|Comedy|Musical', 'Documentary|Musical',\n",
       "       'Action|Thriller|War', 'Adventure|Comedy|Romance',\n",
       "       \"Adventure|Children's|Comedy|Fantasy|Romance\", 'Romance|War',\n",
       "       'Comedy|Romance|Sci-Fi', 'Action|Mystery|Sci-Fi|Thriller',\n",
       "       \"Children's|Horror\", 'Adventure|Musical|Romance',\n",
       "       \"Adventure|Children's|Comedy|Musical\", \"Children's|Comedy|Mystery\",\n",
       "       'Action|Comedy|Romance|Thriller', 'Action|Drama|Western',\n",
       "       \"Animation|Children's|Comedy|Romance\", 'Comedy|Mystery|Romance',\n",
       "       'Action|Crime|Mystery', 'Comedy|Drama|Thriller', 'Musical|War',\n",
       "       'Documentary|Drama', 'Action|Adventure|Crime|Thriller',\n",
       "       \"Action|Adventure|Children's\", \"Adventure|Children's|Romance\",\n",
       "       \"Adventure|Animation|Children's\",\n",
       "       \"Action|Adventure|Animation|Children's|Fantasy\",\n",
       "       \"Adventure|Animation|Children's|Fantasy\",\n",
       "       'Drama|Film-Noir|Thriller', 'Crime|Mystery', 'Documentary|War',\n",
       "       'Action|Comedy|Crime', 'Drama|Romance|Sci-Fi', 'Horror|Mystery',\n",
       "       'Drama|Horror|Thriller', \"Action|Adventure|Children's|Fantasy\",\n",
       "       'Animation|Mystery', 'Drama|Romance|Western', 'Romance|Western',\n",
       "       'Comedy|Film-Noir|Thriller', 'Fantasy', 'Film-Noir|Horror'],\n",
       "      dtype=object)"
      ]
     },
     "execution_count": 25,
     "metadata": {},
     "output_type": "execute_result"
    }
   ],
   "source": [
    "df.Genres.unique()"
   ]
  },
  {
   "cell_type": "code",
   "execution_count": 26,
   "metadata": {},
   "outputs": [],
   "source": [
    "Genres_list = df.Genres.tolist()\n",
    "genre_list = []\n",
    "i = 0\n",
    "while(i<len(Genres_list)):\n",
    "    genre_list+= Genres_list[i].split('|')\n",
    "    i+=1"
   ]
  },
  {
   "cell_type": "code",
   "execution_count": 27,
   "metadata": {},
   "outputs": [
    {
     "name": "stdout",
     "output_type": "stream",
     "text": [
      "['Animation', 'Film-Noir', 'Fantasy', 'Action', 'Horror', 'Drama', 'Documentary', 'War', 'Crime', 'Musical', 'Adventure', \"Children's\", 'Thriller', 'Western', 'Comedy', 'Sci-Fi', 'Romance', 'Mystery']\n",
      "\n",
      "Length of the unique Genre :  18\n"
     ]
    }
   ],
   "source": [
    "unique_gen = list(set(genre_list))\n",
    "print(unique_gen)\n",
    "print()\n",
    "print(\"Length of the unique Genre : \",len(unique_gen))"
   ]
  },
  {
   "cell_type": "markdown",
   "metadata": {},
   "source": [
    "### Creating a separate column for each genre category with a one-hot encoding ( 1 and 0)"
   ]
  },
  {
   "cell_type": "code",
   "execution_count": 28,
   "metadata": {},
   "outputs": [
    {
     "name": "stdout",
     "output_type": "stream",
     "text": [
      "Index(['UserID', 'MovieID', 'Rating', 'Timestamp', 'Gender', 'Age',\n",
      "       'Occupation', 'Zip-code', 'Title', 'Genres', 'Action', 'Adventure',\n",
      "       'Animation', 'Children's', 'Comedy', 'Crime', 'Documentary', 'Drama',\n",
      "       'Fantasy', 'Film-Noir', 'Horror', 'Musical', 'Mystery', 'Romance',\n",
      "       'Sci-Fi', 'Thriller', 'War', 'Western'],\n",
      "      dtype='object')\n"
     ]
    }
   ],
   "source": [
    "new_data = pd.concat([df,df.Genres.str.get_dummies()], axis=1)\n",
    "print(new_data.columns)"
   ]
  },
  {
   "cell_type": "code",
   "execution_count": 29,
   "metadata": {},
   "outputs": [
    {
     "data": {
      "text/html": [
       "<div>\n",
       "<style scoped>\n",
       "    .dataframe tbody tr th:only-of-type {\n",
       "        vertical-align: middle;\n",
       "    }\n",
       "\n",
       "    .dataframe tbody tr th {\n",
       "        vertical-align: top;\n",
       "    }\n",
       "\n",
       "    .dataframe thead th {\n",
       "        text-align: right;\n",
       "    }\n",
       "</style>\n",
       "<table border=\"1\" class=\"dataframe\">\n",
       "  <thead>\n",
       "    <tr style=\"text-align: right;\">\n",
       "      <th></th>\n",
       "      <th>UserID</th>\n",
       "      <th>MovieID</th>\n",
       "      <th>Rating</th>\n",
       "      <th>Timestamp</th>\n",
       "      <th>Gender</th>\n",
       "      <th>Age</th>\n",
       "      <th>Occupation</th>\n",
       "      <th>Zip-code</th>\n",
       "      <th>Title</th>\n",
       "      <th>Genres</th>\n",
       "      <th>...</th>\n",
       "      <th>Fantasy</th>\n",
       "      <th>Film-Noir</th>\n",
       "      <th>Horror</th>\n",
       "      <th>Musical</th>\n",
       "      <th>Mystery</th>\n",
       "      <th>Romance</th>\n",
       "      <th>Sci-Fi</th>\n",
       "      <th>Thriller</th>\n",
       "      <th>War</th>\n",
       "      <th>Western</th>\n",
       "    </tr>\n",
       "  </thead>\n",
       "  <tbody>\n",
       "    <tr>\n",
       "      <th>0</th>\n",
       "      <td>1.0</td>\n",
       "      <td>1193</td>\n",
       "      <td>5.0</td>\n",
       "      <td>978300760.0</td>\n",
       "      <td>F</td>\n",
       "      <td>1.0</td>\n",
       "      <td>10.0</td>\n",
       "      <td>48067</td>\n",
       "      <td>One Flew Over the Cuckoo's Nest (1975)</td>\n",
       "      <td>Drama</td>\n",
       "      <td>...</td>\n",
       "      <td>0</td>\n",
       "      <td>0</td>\n",
       "      <td>0</td>\n",
       "      <td>0</td>\n",
       "      <td>0</td>\n",
       "      <td>0</td>\n",
       "      <td>0</td>\n",
       "      <td>0</td>\n",
       "      <td>0</td>\n",
       "      <td>0</td>\n",
       "    </tr>\n",
       "    <tr>\n",
       "      <th>1</th>\n",
       "      <td>2.0</td>\n",
       "      <td>1193</td>\n",
       "      <td>5.0</td>\n",
       "      <td>978298413.0</td>\n",
       "      <td>M</td>\n",
       "      <td>56.0</td>\n",
       "      <td>16.0</td>\n",
       "      <td>70072</td>\n",
       "      <td>One Flew Over the Cuckoo's Nest (1975)</td>\n",
       "      <td>Drama</td>\n",
       "      <td>...</td>\n",
       "      <td>0</td>\n",
       "      <td>0</td>\n",
       "      <td>0</td>\n",
       "      <td>0</td>\n",
       "      <td>0</td>\n",
       "      <td>0</td>\n",
       "      <td>0</td>\n",
       "      <td>0</td>\n",
       "      <td>0</td>\n",
       "      <td>0</td>\n",
       "    </tr>\n",
       "    <tr>\n",
       "      <th>2</th>\n",
       "      <td>12.0</td>\n",
       "      <td>1193</td>\n",
       "      <td>4.0</td>\n",
       "      <td>978220179.0</td>\n",
       "      <td>M</td>\n",
       "      <td>25.0</td>\n",
       "      <td>12.0</td>\n",
       "      <td>32793</td>\n",
       "      <td>One Flew Over the Cuckoo's Nest (1975)</td>\n",
       "      <td>Drama</td>\n",
       "      <td>...</td>\n",
       "      <td>0</td>\n",
       "      <td>0</td>\n",
       "      <td>0</td>\n",
       "      <td>0</td>\n",
       "      <td>0</td>\n",
       "      <td>0</td>\n",
       "      <td>0</td>\n",
       "      <td>0</td>\n",
       "      <td>0</td>\n",
       "      <td>0</td>\n",
       "    </tr>\n",
       "    <tr>\n",
       "      <th>3</th>\n",
       "      <td>15.0</td>\n",
       "      <td>1193</td>\n",
       "      <td>4.0</td>\n",
       "      <td>978199279.0</td>\n",
       "      <td>M</td>\n",
       "      <td>25.0</td>\n",
       "      <td>7.0</td>\n",
       "      <td>22903</td>\n",
       "      <td>One Flew Over the Cuckoo's Nest (1975)</td>\n",
       "      <td>Drama</td>\n",
       "      <td>...</td>\n",
       "      <td>0</td>\n",
       "      <td>0</td>\n",
       "      <td>0</td>\n",
       "      <td>0</td>\n",
       "      <td>0</td>\n",
       "      <td>0</td>\n",
       "      <td>0</td>\n",
       "      <td>0</td>\n",
       "      <td>0</td>\n",
       "      <td>0</td>\n",
       "    </tr>\n",
       "    <tr>\n",
       "      <th>4</th>\n",
       "      <td>17.0</td>\n",
       "      <td>1193</td>\n",
       "      <td>5.0</td>\n",
       "      <td>978158471.0</td>\n",
       "      <td>M</td>\n",
       "      <td>50.0</td>\n",
       "      <td>1.0</td>\n",
       "      <td>95350</td>\n",
       "      <td>One Flew Over the Cuckoo's Nest (1975)</td>\n",
       "      <td>Drama</td>\n",
       "      <td>...</td>\n",
       "      <td>0</td>\n",
       "      <td>0</td>\n",
       "      <td>0</td>\n",
       "      <td>0</td>\n",
       "      <td>0</td>\n",
       "      <td>0</td>\n",
       "      <td>0</td>\n",
       "      <td>0</td>\n",
       "      <td>0</td>\n",
       "      <td>0</td>\n",
       "    </tr>\n",
       "  </tbody>\n",
       "</table>\n",
       "<p>5 rows × 28 columns</p>\n",
       "</div>"
      ],
      "text/plain": [
       "   UserID  MovieID  Rating    Timestamp Gender   Age  Occupation Zip-code  \\\n",
       "0     1.0     1193     5.0  978300760.0      F   1.0        10.0    48067   \n",
       "1     2.0     1193     5.0  978298413.0      M  56.0        16.0    70072   \n",
       "2    12.0     1193     4.0  978220179.0      M  25.0        12.0    32793   \n",
       "3    15.0     1193     4.0  978199279.0      M  25.0         7.0    22903   \n",
       "4    17.0     1193     5.0  978158471.0      M  50.0         1.0    95350   \n",
       "\n",
       "                                    Title Genres  ...  Fantasy  Film-Noir  \\\n",
       "0  One Flew Over the Cuckoo's Nest (1975)  Drama  ...        0          0   \n",
       "1  One Flew Over the Cuckoo's Nest (1975)  Drama  ...        0          0   \n",
       "2  One Flew Over the Cuckoo's Nest (1975)  Drama  ...        0          0   \n",
       "3  One Flew Over the Cuckoo's Nest (1975)  Drama  ...        0          0   \n",
       "4  One Flew Over the Cuckoo's Nest (1975)  Drama  ...        0          0   \n",
       "\n",
       "   Horror  Musical  Mystery  Romance  Sci-Fi  Thriller  War  Western  \n",
       "0       0        0        0        0       0         0    0        0  \n",
       "1       0        0        0        0       0         0    0        0  \n",
       "2       0        0        0        0       0         0    0        0  \n",
       "3       0        0        0        0       0         0    0        0  \n",
       "4       0        0        0        0       0         0    0        0  \n",
       "\n",
       "[5 rows x 28 columns]"
      ]
     },
     "execution_count": 29,
     "metadata": {},
     "output_type": "execute_result"
    }
   ],
   "source": [
    "new_data.head()"
   ]
  },
  {
   "cell_type": "code",
   "execution_count": 30,
   "metadata": {},
   "outputs": [
    {
     "data": {
      "text/html": [
       "<div>\n",
       "<style scoped>\n",
       "    .dataframe tbody tr th:only-of-type {\n",
       "        vertical-align: middle;\n",
       "    }\n",
       "\n",
       "    .dataframe tbody tr th {\n",
       "        vertical-align: top;\n",
       "    }\n",
       "\n",
       "    .dataframe thead th {\n",
       "        text-align: right;\n",
       "    }\n",
       "</style>\n",
       "<table border=\"1\" class=\"dataframe\">\n",
       "  <thead>\n",
       "    <tr style=\"text-align: right;\">\n",
       "      <th></th>\n",
       "      <th>UserID</th>\n",
       "      <th>MovieID</th>\n",
       "      <th>Rating</th>\n",
       "      <th>Gender</th>\n",
       "      <th>Age</th>\n",
       "      <th>Occupation</th>\n",
       "      <th>Action</th>\n",
       "      <th>Adventure</th>\n",
       "      <th>Animation</th>\n",
       "      <th>Children's</th>\n",
       "      <th>...</th>\n",
       "      <th>Fantasy</th>\n",
       "      <th>Film-Noir</th>\n",
       "      <th>Horror</th>\n",
       "      <th>Musical</th>\n",
       "      <th>Mystery</th>\n",
       "      <th>Romance</th>\n",
       "      <th>Sci-Fi</th>\n",
       "      <th>Thriller</th>\n",
       "      <th>War</th>\n",
       "      <th>Western</th>\n",
       "    </tr>\n",
       "  </thead>\n",
       "  <tbody>\n",
       "    <tr>\n",
       "      <th>0</th>\n",
       "      <td>1.0</td>\n",
       "      <td>1193</td>\n",
       "      <td>5.0</td>\n",
       "      <td>F</td>\n",
       "      <td>1.0</td>\n",
       "      <td>10.0</td>\n",
       "      <td>0</td>\n",
       "      <td>0</td>\n",
       "      <td>0</td>\n",
       "      <td>0</td>\n",
       "      <td>...</td>\n",
       "      <td>0</td>\n",
       "      <td>0</td>\n",
       "      <td>0</td>\n",
       "      <td>0</td>\n",
       "      <td>0</td>\n",
       "      <td>0</td>\n",
       "      <td>0</td>\n",
       "      <td>0</td>\n",
       "      <td>0</td>\n",
       "      <td>0</td>\n",
       "    </tr>\n",
       "    <tr>\n",
       "      <th>1</th>\n",
       "      <td>2.0</td>\n",
       "      <td>1193</td>\n",
       "      <td>5.0</td>\n",
       "      <td>M</td>\n",
       "      <td>56.0</td>\n",
       "      <td>16.0</td>\n",
       "      <td>0</td>\n",
       "      <td>0</td>\n",
       "      <td>0</td>\n",
       "      <td>0</td>\n",
       "      <td>...</td>\n",
       "      <td>0</td>\n",
       "      <td>0</td>\n",
       "      <td>0</td>\n",
       "      <td>0</td>\n",
       "      <td>0</td>\n",
       "      <td>0</td>\n",
       "      <td>0</td>\n",
       "      <td>0</td>\n",
       "      <td>0</td>\n",
       "      <td>0</td>\n",
       "    </tr>\n",
       "    <tr>\n",
       "      <th>2</th>\n",
       "      <td>12.0</td>\n",
       "      <td>1193</td>\n",
       "      <td>4.0</td>\n",
       "      <td>M</td>\n",
       "      <td>25.0</td>\n",
       "      <td>12.0</td>\n",
       "      <td>0</td>\n",
       "      <td>0</td>\n",
       "      <td>0</td>\n",
       "      <td>0</td>\n",
       "      <td>...</td>\n",
       "      <td>0</td>\n",
       "      <td>0</td>\n",
       "      <td>0</td>\n",
       "      <td>0</td>\n",
       "      <td>0</td>\n",
       "      <td>0</td>\n",
       "      <td>0</td>\n",
       "      <td>0</td>\n",
       "      <td>0</td>\n",
       "      <td>0</td>\n",
       "    </tr>\n",
       "    <tr>\n",
       "      <th>3</th>\n",
       "      <td>15.0</td>\n",
       "      <td>1193</td>\n",
       "      <td>4.0</td>\n",
       "      <td>M</td>\n",
       "      <td>25.0</td>\n",
       "      <td>7.0</td>\n",
       "      <td>0</td>\n",
       "      <td>0</td>\n",
       "      <td>0</td>\n",
       "      <td>0</td>\n",
       "      <td>...</td>\n",
       "      <td>0</td>\n",
       "      <td>0</td>\n",
       "      <td>0</td>\n",
       "      <td>0</td>\n",
       "      <td>0</td>\n",
       "      <td>0</td>\n",
       "      <td>0</td>\n",
       "      <td>0</td>\n",
       "      <td>0</td>\n",
       "      <td>0</td>\n",
       "    </tr>\n",
       "    <tr>\n",
       "      <th>4</th>\n",
       "      <td>17.0</td>\n",
       "      <td>1193</td>\n",
       "      <td>5.0</td>\n",
       "      <td>M</td>\n",
       "      <td>50.0</td>\n",
       "      <td>1.0</td>\n",
       "      <td>0</td>\n",
       "      <td>0</td>\n",
       "      <td>0</td>\n",
       "      <td>0</td>\n",
       "      <td>...</td>\n",
       "      <td>0</td>\n",
       "      <td>0</td>\n",
       "      <td>0</td>\n",
       "      <td>0</td>\n",
       "      <td>0</td>\n",
       "      <td>0</td>\n",
       "      <td>0</td>\n",
       "      <td>0</td>\n",
       "      <td>0</td>\n",
       "      <td>0</td>\n",
       "    </tr>\n",
       "  </tbody>\n",
       "</table>\n",
       "<p>5 rows × 24 columns</p>\n",
       "</div>"
      ],
      "text/plain": [
       "   UserID  MovieID  Rating Gender   Age  Occupation  Action  Adventure  \\\n",
       "0     1.0     1193     5.0      F   1.0        10.0       0          0   \n",
       "1     2.0     1193     5.0      M  56.0        16.0       0          0   \n",
       "2    12.0     1193     4.0      M  25.0        12.0       0          0   \n",
       "3    15.0     1193     4.0      M  25.0         7.0       0          0   \n",
       "4    17.0     1193     5.0      M  50.0         1.0       0          0   \n",
       "\n",
       "   Animation  Children's  ...  Fantasy  Film-Noir  Horror  Musical  Mystery  \\\n",
       "0          0           0  ...        0          0       0        0        0   \n",
       "1          0           0  ...        0          0       0        0        0   \n",
       "2          0           0  ...        0          0       0        0        0   \n",
       "3          0           0  ...        0          0       0        0        0   \n",
       "4          0           0  ...        0          0       0        0        0   \n",
       "\n",
       "   Romance  Sci-Fi  Thriller  War  Western  \n",
       "0        0       0         0    0        0  \n",
       "1        0       0         0    0        0  \n",
       "2        0       0         0    0        0  \n",
       "3        0       0         0    0        0  \n",
       "4        0       0         0    0        0  \n",
       "\n",
       "[5 rows x 24 columns]"
      ]
     },
     "execution_count": 30,
     "metadata": {},
     "output_type": "execute_result"
    }
   ],
   "source": [
    "df_new = new_data.drop(['Title','Zip-code','Timestamp','Genres'],axis=1)\n",
    "df_new.head()"
   ]
  },
  {
   "cell_type": "code",
   "execution_count": 31,
   "metadata": {},
   "outputs": [
    {
     "name": "stdout",
     "output_type": "stream",
     "text": [
      "Index(['UserID', 'MovieID', 'Rating', 'Gender', 'Age', 'Occupation', 'Action',\n",
      "       'Adventure', 'Animation', 'Children's', 'Comedy', 'Crime',\n",
      "       'Documentary', 'Drama', 'Fantasy', 'Film-Noir', 'Horror', 'Musical',\n",
      "       'Mystery', 'Romance', 'Sci-Fi', 'Thriller', 'War', 'Western'],\n",
      "      dtype='object')\n"
     ]
    }
   ],
   "source": [
    "print(df_new.columns)"
   ]
  },
  {
   "cell_type": "markdown",
   "metadata": {},
   "source": [
    "### Encoding the gender column"
   ]
  },
  {
   "cell_type": "code",
   "execution_count": 32,
   "metadata": {},
   "outputs": [],
   "source": [
    "df_new.Gender = pd.get_dummies(df_new.Gender)"
   ]
  },
  {
   "cell_type": "code",
   "execution_count": 33,
   "metadata": {},
   "outputs": [
    {
     "data": {
      "text/plain": [
       "(1000209, 21)"
      ]
     },
     "execution_count": 33,
     "metadata": {},
     "output_type": "execute_result"
    }
   ],
   "source": [
    "x = df_new.drop(['UserID','MovieID','Rating'],axis=1)\n",
    "x.shape"
   ]
  },
  {
   "cell_type": "markdown",
   "metadata": {},
   "source": [
    "### The features affecting the ratings of any particular movie."
   ]
  },
  {
   "cell_type": "code",
   "execution_count": 34,
   "metadata": {},
   "outputs": [
    {
     "name": "stdout",
     "output_type": "stream",
     "text": [
      "The features affecting the ratings of any particular movie:\n",
      "\n",
      "Index(['Gender', 'Age', 'Occupation', 'Action', 'Adventure', 'Animation',\n",
      "       'Children's', 'Comedy', 'Crime', 'Documentary', 'Drama', 'Fantasy',\n",
      "       'Film-Noir', 'Horror', 'Musical', 'Mystery', 'Romance', 'Sci-Fi',\n",
      "       'Thriller', 'War', 'Western'],\n",
      "      dtype='object')\n"
     ]
    }
   ],
   "source": [
    "print('The features affecting the ratings of any particular movie:')\n",
    "print()\n",
    "print(x.columns)"
   ]
  },
  {
   "cell_type": "code",
   "execution_count": 35,
   "metadata": {},
   "outputs": [
    {
     "data": {
      "text/plain": [
       "(1000209,)"
      ]
     },
     "execution_count": 35,
     "metadata": {},
     "output_type": "execute_result"
    }
   ],
   "source": [
    "y = df_new.Rating\n",
    "y.shape"
   ]
  },
  {
   "cell_type": "code",
   "execution_count": 36,
   "metadata": {},
   "outputs": [
    {
     "data": {
      "text/plain": [
       "4.0     131032\n",
       "0.0     130499\n",
       "7.0     105425\n",
       "1.0      85351\n",
       "17.0     72816\n",
       "20.0     60397\n",
       "12.0     57214\n",
       "2.0      50068\n",
       "14.0     49109\n",
       "16.0     46021\n",
       "6.0      37205\n",
       "3.0      31623\n",
       "10.0     23290\n",
       "15.0     22951\n",
       "5.0      21850\n",
       "11.0     20563\n",
       "19.0     14904\n",
       "13.0     13754\n",
       "18.0     12086\n",
       "9.0      11345\n",
       "8.0       2706\n",
       "Name: Occupation, dtype: int64"
      ]
     },
     "execution_count": 36,
     "metadata": {},
     "output_type": "execute_result"
    }
   ],
   "source": [
    "x.Occupation.value_counts()"
   ]
  },
  {
   "cell_type": "code",
   "execution_count": 37,
   "metadata": {},
   "outputs": [
    {
     "data": {
      "text/plain": [
       "(   Gender   Age  Occupation  Action  Adventure  Animation  Children's  Comedy  \\\n",
       " 0       1   1.0        10.0       0          0          0           0       0   \n",
       " 1       0  56.0        16.0       0          0          0           0       0   \n",
       " 2       0  25.0        12.0       0          0          0           0       0   \n",
       " 3       0  25.0         7.0       0          0          0           0       0   \n",
       " 4       0  50.0         1.0       0          0          0           0       0   \n",
       " \n",
       "    Crime  Documentary  ...  Occupation_11.0  Occupation_12.0  Occupation_13.0  \\\n",
       " 0      0            0  ...                0                0                0   \n",
       " 1      0            0  ...                0                0                0   \n",
       " 2      0            0  ...                0                1                0   \n",
       " 3      0            0  ...                0                0                0   \n",
       " 4      0            0  ...                0                0                0   \n",
       " \n",
       "    Occupation_14.0  Occupation_15.0  Occupation_16.0  Occupation_17.0  \\\n",
       " 0                0                0                0                0   \n",
       " 1                0                0                1                0   \n",
       " 2                0                0                0                0   \n",
       " 3                0                0                0                0   \n",
       " 4                0                0                0                0   \n",
       " \n",
       "    Occupation_18.0  Occupation_19.0  Occupation_20.0  \n",
       " 0                0                0                0  \n",
       " 1                0                0                0  \n",
       " 2                0                0                0  \n",
       " 3                0                0                0  \n",
       " 4                0                0                0  \n",
       " \n",
       " [5 rows x 42 columns],\n",
       " Index(['Gender', 'Age', 'Occupation', 'Action', 'Adventure', 'Animation',\n",
       "        'Children's', 'Comedy', 'Crime', 'Documentary', 'Drama', 'Fantasy',\n",
       "        'Film-Noir', 'Horror', 'Musical', 'Mystery', 'Romance', 'Sci-Fi',\n",
       "        'Thriller', 'War', 'Western', 'Occupation_0.0', 'Occupation_1.0',\n",
       "        'Occupation_2.0', 'Occupation_3.0', 'Occupation_4.0', 'Occupation_5.0',\n",
       "        'Occupation_6.0', 'Occupation_7.0', 'Occupation_8.0', 'Occupation_9.0',\n",
       "        'Occupation_10.0', 'Occupation_11.0', 'Occupation_12.0',\n",
       "        'Occupation_13.0', 'Occupation_14.0', 'Occupation_15.0',\n",
       "        'Occupation_16.0', 'Occupation_17.0', 'Occupation_18.0',\n",
       "        'Occupation_19.0', 'Occupation_20.0'],\n",
       "       dtype='object'))"
      ]
     },
     "execution_count": 37,
     "metadata": {},
     "output_type": "execute_result"
    }
   ],
   "source": [
    "x = x.join(pd.get_dummies(x.Occupation,prefix='Occupation'))\n",
    "x.head(),x.columns"
   ]
  },
  {
   "cell_type": "code",
   "execution_count": 38,
   "metadata": {},
   "outputs": [
    {
     "data": {
      "text/plain": [
       "(   Gender   Age  Action  Adventure  Animation  Children's  Comedy  Crime  \\\n",
       " 0       1   1.0       0          0          0           0       0      0   \n",
       " 1       0  56.0       0          0          0           0       0      0   \n",
       " 2       0  25.0       0          0          0           0       0      0   \n",
       " \n",
       "    Documentary  Drama  ...  Occupation_11.0  Occupation_12.0  Occupation_13.0  \\\n",
       " 0            0      1  ...                0                0                0   \n",
       " 1            0      1  ...                0                0                0   \n",
       " 2            0      1  ...                0                1                0   \n",
       " \n",
       "    Occupation_14.0  Occupation_15.0  Occupation_16.0  Occupation_17.0  \\\n",
       " 0                0                0                0                0   \n",
       " 1                0                0                1                0   \n",
       " 2                0                0                0                0   \n",
       " \n",
       "    Occupation_18.0  Occupation_19.0  Occupation_20.0  \n",
       " 0                0                0                0  \n",
       " 1                0                0                0  \n",
       " 2                0                0                0  \n",
       " \n",
       " [3 rows x 40 columns],\n",
       " (1000209, 40))"
      ]
     },
     "execution_count": 38,
     "metadata": {},
     "output_type": "execute_result"
    }
   ],
   "source": [
    "x = x.drop(['Occupation','Occupation_0.0'],axis=1)\n",
    "x.head(3),x.shape"
   ]
  },
  {
   "cell_type": "markdown",
   "metadata": {},
   "source": [
    "### Deploying the hold out method"
   ]
  },
  {
   "cell_type": "code",
   "execution_count": 39,
   "metadata": {},
   "outputs": [],
   "source": [
    "x_train, x_test, y_train, y_test = train_test_split(x,y,test_size=0.2,random_state = 10,stratify=y)"
   ]
  },
  {
   "cell_type": "markdown",
   "metadata": {},
   "source": [
    "### Deploying the model"
   ]
  },
  {
   "cell_type": "code",
   "execution_count": 40,
   "metadata": {},
   "outputs": [],
   "source": [
    "lgb = LGBMClassifier(boosting_type = 'gbdt',n_jobs= -1,objective='multiclass')"
   ]
  },
  {
   "cell_type": "code",
   "execution_count": 41,
   "metadata": {},
   "outputs": [
    {
     "data": {
      "text/plain": [
       "LGBMClassifier(objective='multiclass')"
      ]
     },
     "execution_count": 41,
     "metadata": {},
     "output_type": "execute_result"
    }
   ],
   "source": [
    "lgb.fit(x_train,y_train)"
   ]
  },
  {
   "cell_type": "code",
   "execution_count": 42,
   "metadata": {},
   "outputs": [],
   "source": [
    "y_pred = lgb.predict(x_test)"
   ]
  },
  {
   "cell_type": "code",
   "execution_count": 43,
   "metadata": {},
   "outputs": [
    {
     "name": "stdout",
     "output_type": "stream",
     "text": [
      "LGBM accuracy score is :  36.32887093710321\n"
     ]
    }
   ],
   "source": [
    "print('LGBM accuracy score is : ', accuracy_score(y_test,y_pred)*100)"
   ]
  },
  {
   "cell_type": "code",
   "execution_count": 44,
   "metadata": {},
   "outputs": [],
   "source": [
    "xgb = xgboost.XGBClassifier(n_jobs=-1)"
   ]
  },
  {
   "cell_type": "code",
   "execution_count": 45,
   "metadata": {},
   "outputs": [
    {
     "name": "stdout",
     "output_type": "stream",
     "text": [
      "[16:38:39] WARNING: ../src/learner.cc:1095: Starting in XGBoost 1.3.0, the default evaluation metric used with the objective 'multi:softprob' was changed from 'merror' to 'mlogloss'. Explicitly set eval_metric if you'd like to restore the old behavior.\n"
     ]
    },
    {
     "data": {
      "text/plain": [
       "XGBClassifier(base_score=0.5, booster='gbtree', colsample_bylevel=1,\n",
       "              colsample_bynode=1, colsample_bytree=1, gamma=0, gpu_id=-1,\n",
       "              importance_type='gain', interaction_constraints='',\n",
       "              learning_rate=0.300000012, max_delta_step=0, max_depth=6,\n",
       "              min_child_weight=1, missing=nan, monotone_constraints='()',\n",
       "              n_estimators=100, n_jobs=-1, num_parallel_tree=1,\n",
       "              objective='multi:softprob', random_state=0, reg_alpha=0,\n",
       "              reg_lambda=1, scale_pos_weight=None, subsample=1,\n",
       "              tree_method='exact', validate_parameters=1, verbosity=None)"
      ]
     },
     "execution_count": 45,
     "metadata": {},
     "output_type": "execute_result"
    }
   ],
   "source": [
    "xgb.fit(x_train,y_train)"
   ]
  },
  {
   "cell_type": "code",
   "execution_count": 46,
   "metadata": {},
   "outputs": [],
   "source": [
    "y_pred_xgb = xgb.predict(x_test)"
   ]
  },
  {
   "cell_type": "code",
   "execution_count": 47,
   "metadata": {},
   "outputs": [
    {
     "name": "stdout",
     "output_type": "stream",
     "text": [
      "XGB accuracy score is :  36.40635466552024\n"
     ]
    }
   ],
   "source": [
    "print('XGB accuracy score is : ', accuracy_score(y_test,y_pred_xgb )*100)"
   ]
  },
  {
   "cell_type": "markdown",
   "metadata": {},
   "source": [
    "### Accuracy score of both the model"
   ]
  },
  {
   "cell_type": "markdown",
   "metadata": {},
   "source": [
    "### LGBM accuracy score is :  36.32887093710321"
   ]
  },
  {
   "cell_type": "markdown",
   "metadata": {},
   "source": [
    "### XGB accuracy score is : 35.39%"
   ]
  }
 ],
 "metadata": {
  "kernelspec": {
   "display_name": "Python 3.8.5 64-bit",
   "language": "python",
   "name": "python38564bit8c6d3047083a493db77bcc21e1c54c0b"
  },
  "language_info": {
   "codemirror_mode": {
    "name": "ipython",
    "version": 3
   },
   "file_extension": ".py",
   "mimetype": "text/x-python",
   "name": "python",
   "nbconvert_exporter": "python",
   "pygments_lexer": "ipython3",
   "version": "3.8.5"
  }
 },
 "nbformat": 4,
 "nbformat_minor": 4
}
